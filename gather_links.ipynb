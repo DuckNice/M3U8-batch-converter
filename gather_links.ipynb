{
 "cells": [
  {
   "cell_type": "code",
   "execution_count": null,
   "metadata": {},
   "outputs": [],
   "source": [
    "from typing import List, Dict\n",
    "import os\n",
    "\n",
    "source_folder = os.path.join(\"C:/Users/Kasper/Desktop/Downloads\")\n",
    "source_file = os.path.join(source_folder, \"Videos.txt\")"
   ]
  },
  {
   "cell_type": "code",
   "execution_count": null,
   "metadata": {},
   "outputs": [],
   "source": [
    "## Open and read file list\n",
    "from file_organizers import read_links_from_file\n",
    "\n",
    "siteLib: Dict[str, List[str]] = read_links_from_file(source_file)\n",
    "\n",
    "print(siteLib)"
   ]
  },
  {
   "cell_type": "code",
   "execution_count": null,
   "metadata": {},
   "outputs": [],
   "source": [
    "\"\"\" import requests\n",
    "\n",
    "## Login\n",
    "\n",
    "loginPayload = {\n",
    "    \"email\": \"k.ducknice@hotmail.com\",\n",
    "    \"password\": \"!xYz&d&H3c&wLbg2#2@N\",\n",
    "}\n",
    "\n",
    "session = requests.session()\n",
    "\n",
    "print(session.post(\"https://www.onmitsukage.com/api/sessions\", data=loginPayload))\n",
    "print(session.post(\"https://m.stripe.com/6\"))\n",
    "print(session.cookies.items())\n",
    "\n",
    "# Test connection\n",
    "page = requests.get(\n",
    "    \"https://www.onmitsukage.com/programs/spd-8221__vol1_sd-7d34ed?category_id=129941\",\n",
    ")\n",
    "\n",
    "print(page.text)\n",
    "\n",
    "session.close() \"\"\""
   ]
  },
  {
   "cell_type": "code",
   "execution_count": null,
   "metadata": {},
   "outputs": [],
   "source": [
    "#import requests\n",
    "from file_organizers import iterate_on_lib\n",
    "\n",
    "## Rip links\n",
    "\n",
    "\n",
    "iterate_on_lib(siteLib, lambda group, site: print(group, site))\n",
    "\n",
    "\n",
    "\"\"\" fileLib: Dict[str, List[str]] = {}\n",
    "\n",
    "\n",
    "\n",
    "\n",
    "for folder in siteLib.items():\n",
    "    group = folder[0]\n",
    "\n",
    "\n",
    "    for site in folder[1]:\n",
    "        print(group, site)\n",
    "\n",
    "        # TODO: rip link\n",
    "\n",
    "\n",
    "\n",
    "\n",
    "        # <source src=\n",
    "        page = requests.get(\n",
    "            site,\n",
    "            headers={\n",
    "                \"remember_user_token\": \"eyJfcmFpbHMiOnsibWVzc2FnZSI6Ilcxc3lNVEV6TmpJeU9WMHNJaVF5WVNReE1DUk5WVUZPV1c1TlpFWjNVRXA0ZUVWaVUzQnRiVEF1SWl3aU1UY3hOekU0TVRRM01DNHhOamt3TmpnMklsMD0iLCJleHAiOiIyMDI0LTA2LTE0VDE4OjUxOjEwLjE2OVoiLCJwdXIiOm51bGx9fQ%3D%3D--ec0b6aa5ae59e1343187ba45b67a34624eae8f94\"\n",
    "            },\n",
    "        )\n",
    "\n",
    "        print(page.text)\n",
    "\n",
    "        break\n",
    "\n",
    "    break \"\"\""
   ]
  }
 ],
 "metadata": {
  "kernelspec": {
   "display_name": ".venv",
   "language": "python",
   "name": "python3"
  },
  "language_info": {
   "codemirror_mode": {
    "name": "ipython",
    "version": 3
   },
   "file_extension": ".py",
   "mimetype": "text/x-python",
   "name": "python",
   "nbconvert_exporter": "python",
   "pygments_lexer": "ipython3",
   "version": "3.12.2"
  }
 },
 "nbformat": 4,
 "nbformat_minor": 2
}
